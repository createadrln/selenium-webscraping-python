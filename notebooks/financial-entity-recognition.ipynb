{
 "cells": [
  {
   "cell_type": "code",
   "execution_count": null,
   "metadata": {},
   "outputs": [],
   "source": [
    "# Lookup \"overfit\" the data\n",
    "\n",
    "# NeMo\n",
    "\n",
    "# Models for quantization?\n",
    "\n",
    "# Which model is right\n",
    "\n",
    "# What are we trying to do with the model? Example was removing a word and then trying to predict what word it was. Also word recognition. \n",
    "\n",
    "# NLP is also auditory\n",
    "\n",
    "# NGC Pre-Trained transformer models\n"
   ]
  }
 ],
 "metadata": {
  "kernelspec": {
   "display_name": "Python 3",
   "language": "python",
   "name": "python3"
  },
  "language_info": {
   "name": "python",
   "version": "3.8.10"
  },
  "orig_nbformat": 4,
  "vscode": {
   "interpreter": {
    "hash": "2f71470e1f5fdc434d9f860ceb85d68d593fc80da45b256888afd0aae605a82b"
   }
  }
 },
 "nbformat": 4,
 "nbformat_minor": 2
}
