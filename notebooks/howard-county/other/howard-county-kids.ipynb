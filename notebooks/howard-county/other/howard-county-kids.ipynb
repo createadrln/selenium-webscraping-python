{
 "cells": [
  {
   "cell_type": "code",
   "execution_count": 153,
   "metadata": {},
   "outputs": [],
   "source": [
    "# Articles\n",
    "import pandas as pd\n",
    "\n",
    "# From cleanText util because stupid relative imports aren't working\n",
    "def text_remove_brackets_and_line_breaks(text):\n",
    "    cleanText = re.sub(r'\\]|\\[|', '', text)\n",
    "    cleanText = re.sub(r'\\\\n', ' ', cleanText)\n",
    "    return cleanText\n",
    "\n",
    "f1 = pd.read_csv('../data-files/howard-county-parents-data/howard-county-library.csv')\n",
    "f1['content'] = f1['content'].apply(text_remove_brackets_and_line_breaks)"
   ]
  },
  {
   "cell_type": "code",
   "execution_count": 154,
   "metadata": {},
   "outputs": [],
   "source": [
    "# Remove rows with content that contains ALL TOGETHER NOW\n",
    "f1 = f1[~f1['content'].str.contains('ALL TOGETHER NOW')]\n",
    "\n",
    "# Remove string matches\n",
    "f1['content'] = f1['content'].str[1:-1]\n",
    "f1['content'] = f1['content'].str.replace('Remind Me Add To My Calendar Print Share ', '')\n",
    "f1['content'] = f1['content'].str.replace('Please note you are looking at an event that has already happened', '')\n",
    "\n",
    "# Trim string begin and end whitespace\n",
    "f1['title'] = f1['title'].str.strip()\n",
    "f1['url'] = f1['url'].str.strip()\n",
    "f1['content'] = f1['content'].str.strip()"
   ]
  },
  {
   "cell_type": "code",
   "execution_count": 155,
   "metadata": {},
   "outputs": [],
   "source": [
    "# Print results to new CSV file\n",
    "f1.to_csv('f1.csv', index=False)"
   ]
  },
  {
   "cell_type": "code",
   "execution_count": 110,
   "metadata": {},
   "outputs": [],
   "source": [
    "# Other future experiments\n",
    "\n",
    "# Find content with infant-23\n",
    "infant_23_content = f1[f1['content'].str.contains('infant-23')]\n",
    "\n",
    "# f1.head(20)['content']"
   ]
  },
  {
   "cell_type": "code",
   "execution_count": null,
   "metadata": {},
   "outputs": [],
   "source": []
  }
 ],
 "metadata": {
  "kernelspec": {
   "display_name": "Python 3",
   "language": "python",
   "name": "python3"
  },
  "language_info": {
   "codemirror_mode": {
    "name": "ipython",
    "version": 3
   },
   "file_extension": ".py",
   "mimetype": "text/x-python",
   "name": "python",
   "nbconvert_exporter": "python",
   "pygments_lexer": "ipython3",
   "version": "3.8.10"
  },
  "orig_nbformat": 4
 },
 "nbformat": 4,
 "nbformat_minor": 2
}
