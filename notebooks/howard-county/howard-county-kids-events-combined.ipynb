{
 "cells": [
  {
   "cell_type": "code",
   "execution_count": 57,
   "metadata": {},
   "outputs": [],
   "source": [
    "# Load CSV files and combine\n",
    "import pandas as pd\n",
    "import glob\n",
    "\n",
    "csv_files = glob.glob('../../data-files/howard-county-parents-data/*.csv')\n",
    "\n",
    "dataframes = []\n",
    "for csv_file in csv_files:\n",
    "    df = pd.read_csv(csv_file)\n",
    "    dataframes.append(df)\n",
    "    \n",
    "combined_df = pd.concat(dataframes)"
   ]
  },
  {
   "cell_type": "code",
   "execution_count": 58,
   "metadata": {},
   "outputs": [],
   "source": [
    "# Format dates and sort\n",
    "combined_df['date'] = pd.to_datetime(combined_df['date'])\n",
    "combined_df['date'] = combined_df['date'].dt.strftime('%Y-%m-%d %H:%M:%S')\n",
    "combined_df['date-pretty'] = combined_df['date']\n",
    "combined_df['date-pretty'] = pd.to_datetime(combined_df['date-pretty']).dt.strftime('%m/%d/%Y')\n",
    "combined_df.sort_values(by='date', ascending=True, inplace=True)"
   ]
  },
  {
   "cell_type": "code",
   "execution_count": 59,
   "metadata": {},
   "outputs": [],
   "source": [
    "# Save all events to page\n",
    "combined_df[['title', 'link', 'date-pretty', 'content', 'source']].head().to_csv(\n",
    "    '../../../howard-county-kids-blog/bludit/bl-content/pages/upcoming-events/index.txt', index=False, sep='\\t')"
   ]
  },
  {
   "cell_type": "code",
   "execution_count": 60,
   "metadata": {},
   "outputs": [],
   "source": [
    "# Get the current date\n",
    "from datetime import date\n",
    "today = date.today()\n",
    "\n",
    "# Get the date 1 day from today\n",
    "from datetime import timedelta\n",
    "date_1_day_from_now = today + timedelta(days=1)\n",
    "\n",
    "# Filter the dataframe by the date range\n",
    "filtered_all_greater_than_today = combined_df[pd.to_datetime(combined_df['date']).dt.date >= today]\n",
    "filtered_one_day_df = combined_df[(pd.to_datetime(combined_df['date']).dt.date >= today) & (pd.to_datetime(combined_df['date']).dt.date <= date_1_day_from_now)]"
   ]
  },
  {
   "cell_type": "code",
   "execution_count": 62,
   "metadata": {},
   "outputs": [],
   "source": [
    "# Save 5 of todays events to page\n",
    "# @TODO make \"See more\" button and have all \"Todays Events\" on page\n",
    "# @TODO find content for primary spot on page\n",
    "filtered_one_day_df[['title', 'source', 'link', 'date-pretty', 'content']].head(5).to_csv(\n",
    "    '../../../howard-county-kids-blog/bludit/data/todays-events.txt', index=False, sep='\\t')"
   ]
  }
 ],
 "metadata": {
  "kernelspec": {
   "display_name": "Python 3",
   "language": "python",
   "name": "python3"
  },
  "language_info": {
   "codemirror_mode": {
    "name": "ipython",
    "version": 3
   },
   "file_extension": ".py",
   "mimetype": "text/x-python",
   "name": "python",
   "nbconvert_exporter": "python",
   "pygments_lexer": "ipython3",
   "version": "3.8.10"
  },
  "orig_nbformat": 4
 },
 "nbformat": 4,
 "nbformat_minor": 2
}
