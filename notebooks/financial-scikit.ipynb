{
 "cells": [
  {
   "cell_type": "code",
   "execution_count": null,
   "metadata": {},
   "outputs": [],
   "source": [
    "import numpy as np\n",
    "import pandas as pd\n",
    "\n",
    "from atom import ATOMClassifier\n",
    "from sklearn.datasets import fetch_20newsgroups\n",
    "import matplotlib.pyplot as plt\n",
    "\n",
    "import json\n",
    "import csv\n",
    "import os\n",
    "import glob\n",
    "\n",
    "# Load the dataset (get only 5 topics)\n",
    "X, y = fetch_20newsgroups(\n",
    "    return_X_y=True,\n",
    "    categories=[\n",
    "        'alt.atheism',\n",
    "        'sci.med',\n",
    "        'comp.windows.x',\n",
    "        'misc.forsale',\n",
    "        'rec.autos',\n",
    "    ],\n",
    ")"
   ]
  }
 ],
 "metadata": {
  "kernelspec": {
   "display_name": "Python 3",
   "language": "python",
   "name": "python3"
  },
  "language_info": {
   "name": "python",
   "version": "3.8.10"
  },
  "orig_nbformat": 4,
  "vscode": {
   "interpreter": {
    "hash": "2f71470e1f5fdc434d9f860ceb85d68d593fc80da45b256888afd0aae605a82b"
   }
  }
 },
 "nbformat": 4,
 "nbformat_minor": 2
}
