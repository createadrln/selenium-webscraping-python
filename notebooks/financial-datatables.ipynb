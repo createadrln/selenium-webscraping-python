{
 "cells": [
  {
   "cell_type": "code",
   "execution_count": 7,
   "metadata": {},
   "outputs": [],
   "source": [
    "# Articles\n",
    "\n",
    "import pandas as pd\n",
    "import utils.cleantext\n",
    "\n",
    "articles = pd.read_csv('../data-files/financial-blogs-data/combined.csv')\n",
    "articles['content'] = articles['content'].apply(utils.cleantext.clean_text)"
   ]
  },
  {
   "cell_type": "code",
   "execution_count": null,
   "metadata": {},
   "outputs": [],
   "source": [
    "# TODO - remove promos and callouts\n",
    "\n",
    "removed_phrases = ['Uber Frugal Month Challenge', 'To enter the giveaway', 'I’ve featured folks']"
   ]
  },
  {
   "cell_type": "code",
   "execution_count": 60,
   "metadata": {},
   "outputs": [],
   "source": [
    "from nltk.corpus import stopwords\n",
    "\n",
    "stop_words = set(stopwords.words('english')) \n",
    "custom_stopwords = ['inbox', 'us', 'community', 'discover', 'lets', 'delivered', 'accelerate', 'helps', 'inspirational', 'week', 'people', 'stories', 'accountability', 'advice', 'uber', 'cit', 'chase', 'uber', 'unsubscribe', 'signup', 'dive', 'venture', 'sapphire', 'new', 'rewards', 'links', 'back', 'southwest', 'card']\n",
    "stop_words.update(custom_stopwords)"
   ]
  },
  {
   "cell_type": "code",
   "execution_count": 66,
   "metadata": {},
   "outputs": [
    {
     "data": {
      "text/plain": [
       "(safe, withdrawal, rate)             16\n",
       "(cities, financial, independence)    11\n",
       "(supplemental, cash, flows)          10\n",
       "(cell, phone, service)               10\n",
       "(first, rental, property)            10\n",
       "(savings, builder, account)           9\n",
       "(let’s, take, look)                   9\n",
       "(private, reader, case)               8\n",
       "(real, estate, investing)             8\n",
       "(case, study, subject)                7\n",
       "(every, single, month)                7\n",
       "(capital, one, credit)                7\n",
       "(join, mastermind, group)             7\n",
       "(brand, way, participate)             7\n",
       "(reader, case, study)                 6\n",
       "(highinterest, savings, account)      6\n",
       "(reader, case, studies)               6\n",
       "(interest, savings, account)          6\n",
       "(low, interest, savings)              6\n",
       "(step, parent, opens)                 6\n",
       "dtype: int64"
      ]
     },
     "execution_count": 66,
     "metadata": {},
     "output_type": "execute_result"
    }
   ],
   "source": [
    "# Trigrams\n",
    "\n",
    "import pandas as pd\n",
    "from nltk.util import ngrams\n",
    "\n",
    "trigrams = []\n",
    "for row in articles['content']:\n",
    "    tokens = [token for token in row.split() if token not in stop_words]\n",
    "    trigrams += list(ngrams(tokens, 3))\n",
    "trigram_counts = pd.Series(trigrams).value_counts()\n",
    "\n",
    "trigram_counts.head(20)"
   ]
  },
  {
   "cell_type": "code",
   "execution_count": 103,
   "metadata": {},
   "outputs": [
    {
     "data": {
      "text/plain": [
       "0      True\n",
       "1     False\n",
       "2      True\n",
       "3     False\n",
       "4     False\n",
       "5      True\n",
       "6      True\n",
       "7      True\n",
       "8      True\n",
       "9      True\n",
       "10     True\n",
       "11     True\n",
       "12     True\n",
       "13     True\n",
       "14     True\n",
       "15     True\n",
       "16     True\n",
       "17     True\n",
       "18     True\n",
       "19     True\n",
       "20     True\n",
       "21     True\n",
       "22     True\n",
       "23     True\n",
       "24     True\n",
       "25     True\n",
       "26     True\n",
       "27     True\n",
       "28     True\n",
       "29     True\n",
       "30     True\n",
       "31     True\n",
       "32     True\n",
       "33    False\n",
       "34    False\n",
       "35     True\n",
       "36    False\n",
       "37     True\n",
       "38    False\n",
       "39     True\n",
       "40    False\n",
       "41     True\n",
       "42     True\n",
       "43     True\n",
       "44     True\n",
       "Name: financial_wds, dtype: bool"
      ]
     },
     "execution_count": 103,
     "metadata": {},
     "output_type": "execute_result"
    }
   ],
   "source": [
    "# TODO - We can apply some specific financial terms to the corpus to see if we can find any articles that are more likely to be about finance.\n",
    "\n",
    "def find_financial_wds(content, cc_wds=['make money', 'credit', 'financial institution', 'financial advisor', 'financial independence', 'financial future' 'market', 'credit card', 'pay', 'credit line', 'credit management']\n",
    "):\n",
    "    found = False\n",
    "    for w in cc_wds:\n",
    "        if w in content:\n",
    "            found = True\n",
    "            break\n",
    "\n",
    "    if not found:\n",
    "        disj = re.compile(r'(chang\\w+\\W+(?:\\w+\\W+){1,5}?climate) | (climate\\W+(?:\\w+\\W+){1,5}?chang)')\n",
    "        if disj.match(content):\n",
    "            found = True\n",
    "    return found\n",
    "\n",
    "articles['financial_wds'] = articles['tokenized'].apply(find_financial_wds)"
   ]
  }
 ],
 "metadata": {
  "kernelspec": {
   "display_name": "Python 3",
   "language": "python",
   "name": "python3"
  },
  "language_info": {
   "codemirror_mode": {
    "name": "ipython",
    "version": 3
   },
   "file_extension": ".py",
   "mimetype": "text/x-python",
   "name": "python",
   "nbconvert_exporter": "python",
   "pygments_lexer": "ipython3",
   "version": "3.8.10"
  },
  "orig_nbformat": 4,
  "vscode": {
   "interpreter": {
    "hash": "2f71470e1f5fdc434d9f860ceb85d68d593fc80da45b256888afd0aae605a82b"
   }
  }
 },
 "nbformat": 4,
 "nbformat_minor": 2
}
