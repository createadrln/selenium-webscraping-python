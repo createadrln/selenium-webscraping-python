{
 "cells": [
  {
   "cell_type": "code",
   "execution_count": 2,
   "metadata": {},
   "outputs": [],
   "source": [
    "# Articles\n",
    "import pandas as pd\n",
    "import utils.cleantext\n",
    "\n",
    "f1 = pd.read_csv('../data-files/financial-blogs-data/afford-anything.csv')\n",
    "f1['content'] = f1['content'].apply(utils.cleantext.clean_text)"
   ]
  },
  {
   "cell_type": "code",
   "execution_count": 9,
   "metadata": {},
   "outputs": [],
   "source": [
    "from vaderSentiment.vaderSentiment import SentimentIntensityAnalyzer\n",
    "\n",
    "sid = SentimentIntensityAnalyzer()\n",
    "\n",
    "sentiment_scores = []\n",
    "for content in f1['content']:\n",
    "    sentiment_scores.append(sid.polarity_scores(content)['compound'])\n",
    "\n",
    "f1['sentiment_score'] = sentiment_scores\n",
    "overall_sentiment = f1['sentiment_score'].mean()"
   ]
  }
 ],
 "metadata": {
  "kernelspec": {
   "display_name": "Python 3",
   "language": "python",
   "name": "python3"
  },
  "language_info": {
   "codemirror_mode": {
    "name": "ipython",
    "version": 3
   },
   "file_extension": ".py",
   "mimetype": "text/x-python",
   "name": "python",
   "nbconvert_exporter": "python",
   "pygments_lexer": "ipython3",
   "version": "3.8.10"
  },
  "orig_nbformat": 4,
  "vscode": {
   "interpreter": {
    "hash": "2f71470e1f5fdc434d9f860ceb85d68d593fc80da45b256888afd0aae605a82b"
   }
  }
 },
 "nbformat": 4,
 "nbformat_minor": 2
}
